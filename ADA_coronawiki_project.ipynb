{
  "cells": [
    {
      "cell_type": "markdown",
      "metadata": {
        "id": "1SY3BOcbZttI"
      },
      "source": [
        "### Téléchargement des datas\n"
      ]
    },
    {
      "cell_type": "code",
      "execution_count": 4,
      "metadata": {
        "colab": {
          "base_uri": "https://localhost:8080/"
        },
        "id": "kJqcTZHlUuBC",
        "outputId": "2f548c38-86b3-4bf4-8639-b61412f6f9dd"
      },
      "outputs": [
        {
          "data": {
            "text/plain": [
              "\" plus besoin si on a les fichiers dans 'data'\\nimport gdown\\nfrom os.path import exists\\n\\n#Download the files only if they are not already in the environnement d'exécution\\n\\nfiles_already_downloaded = exists('topics_linked.csv')\\n\\nif not files_already_downloaded :\\n\\n  #Import interventions.csv\\n  url = 'https://drive.google.com/uc?id=1e8J6m_HV66F_yHqjvzscePSLtvZi6YPB'\\n  output = 'interventions.csv'\\n  gdown.download(url, output, quiet=False)\\n\\n  #Import Global_Mobility_Report.csv\\n  url = 'https://drive.google.com/uc?id=1GyWeePY8xG3G8DRlI0utcTsCmNCYjo3L'\\n  output = 'Global_Mobility_Report.csv'\\n  gdown.download(url, output, quiet=False)\\n\\n  #Import Global_Mobility_Report.csv\\n  url = 'https://drive.google.com/uc?id=1GyWeePY8xG3G8DRlI0utcTsCmNCYjo3L'\\n  output = 'Global_Mobility_Report.csv'\\n  gdown.download(url, output, quiet=False)\\n\\n  #Import apple mobility trends\\n  url = 'https://drive.google.com/uc?id=1Mg-1rxmnnPQIdWKsPWN9apH-y3P2x9dK'\\n  output = 'applemobilitytrends-2020-04-20.csv'\\n  gdown.download(url, output, quiet=False)\\n\\n  #Import aggregated time series\\n  url = 'https://drive.google.com/uc?id=1lTjzeqc3wDQhcxG4VC9qtbw06vHED2eX'\\n  output = 'aggregated_timeseries.json'\\n  gdown.download(url, output, quiet=False)\\n\\n  #Import topics_linked\\n  url = 'https://drive.google.com/uc?id=1Pv1EKCNR72Yxivrvn_KDj7vfr2vKEmfh'\\n  output = 'topics_linked.csv'\\n  gdown.download(url, output, quiet=False)\\n\\nelse :\\n  print ('Files already downloaded') \""
            ]
          },
          "execution_count": 4,
          "metadata": {},
          "output_type": "execute_result"
        }
      ],
      "source": [
        "\"\"\" plus besoin si on a les fichiers dans 'data'\n",
        "import gdown\n",
        "from os.path import exists\n",
        "\n",
        "#Download the files only if they are not already in the environnement d'exécution\n",
        "\n",
        "files_already_downloaded = exists('topics_linked.csv')\n",
        "\n",
        "if not files_already_downloaded :\n",
        "\n",
        "  #Import interventions.csv\n",
        "  url = 'https://drive.google.com/uc?id=1e8J6m_HV66F_yHqjvzscePSLtvZi6YPB'\n",
        "  output = 'interventions.csv'\n",
        "  gdown.download(url, output, quiet=False)\n",
        "\n",
        "  #Import Global_Mobility_Report.csv\n",
        "  url = 'https://drive.google.com/uc?id=1GyWeePY8xG3G8DRlI0utcTsCmNCYjo3L'\n",
        "  output = 'Global_Mobility_Report.csv'\n",
        "  gdown.download(url, output, quiet=False)\n",
        "\n",
        "  #Import Global_Mobility_Report.csv\n",
        "  url = 'https://drive.google.com/uc?id=1GyWeePY8xG3G8DRlI0utcTsCmNCYjo3L'\n",
        "  output = 'Global_Mobility_Report.csv'\n",
        "  gdown.download(url, output, quiet=False)\n",
        "\n",
        "  #Import apple mobility trends\n",
        "  url = 'https://drive.google.com/uc?id=1Mg-1rxmnnPQIdWKsPWN9apH-y3P2x9dK'\n",
        "  output = 'applemobilitytrends-2020-04-20.csv'\n",
        "  gdown.download(url, output, quiet=False)\n",
        "\n",
        "  #Import aggregated time series\n",
        "  url = 'https://drive.google.com/uc?id=1lTjzeqc3wDQhcxG4VC9qtbw06vHED2eX'\n",
        "  output = 'aggregated_timeseries.json'\n",
        "  gdown.download(url, output, quiet=False)\n",
        "\n",
        "  #Import topics_linked\n",
        "  url = 'https://drive.google.com/uc?id=1Pv1EKCNR72Yxivrvn_KDj7vfr2vKEmfh'\n",
        "  output = 'topics_linked.csv'\n",
        "  gdown.download(url, output, quiet=False)\n",
        "\n",
        "else :\n",
        "  print ('Files already downloaded') \"\"\""
      ]
    },
    {
      "cell_type": "markdown",
      "metadata": {
        "id": "AGRDBIn4aA4t"
      },
      "source": [
        "### Load the different files"
      ]
    },
    {
      "cell_type": "markdown",
      "metadata": {},
      "source": [
        "Here the .gz files have previously been uncompressed so that they are directly usable"
      ]
    },
    {
      "cell_type": "code",
      "execution_count": 5,
      "metadata": {
        "colab": {
          "base_uri": "https://localhost:8080/"
        },
        "id": "-ORTl38zWm4e",
        "outputId": "26e70775-28e5-4261-db70-d426d1d679b2"
      },
      "outputs": [
        {
          "name": "stderr",
          "output_type": "stream",
          "text": [
            "c:\\Users\\val31\\Anaconda3\\lib\\site-packages\\IPython\\core\\interactiveshell.py:3020: DtypeWarning: Columns (4) have mixed types. Specify dtype option on import or set low_memory=False.\n",
            "  interactivity=interactivity, compiler=compiler, result=result)\n"
          ]
        },
        {
          "ename": "FileNotFoundError",
          "evalue": "[Errno 2] No such file or directory: 'data/aggregated_timeseries.json'",
          "output_type": "error",
          "traceback": [
            "\u001b[1;31m---------------------------------------------------------------------------\u001b[0m",
            "\u001b[1;31mFileNotFoundError\u001b[0m                         Traceback (most recent call last)",
            "\u001b[1;32m<ipython-input-5-e5e91b1b2e97>\u001b[0m in \u001b[0;36m<module>\u001b[1;34m\u001b[0m\n\u001b[0;32m     11\u001b[0m \u001b[1;33m\u001b[0m\u001b[0m\n\u001b[0;32m     12\u001b[0m \u001b[1;31m#Load json file\u001b[0m\u001b[1;33m\u001b[0m\u001b[1;33m\u001b[0m\u001b[1;33m\u001b[0m\u001b[0m\n\u001b[1;32m---> 13\u001b[1;33m \u001b[0mf\u001b[0m \u001b[1;33m=\u001b[0m \u001b[0mopen\u001b[0m\u001b[1;33m(\u001b[0m\u001b[0mpath\u001b[0m \u001b[1;33m+\u001b[0m \u001b[1;34m'aggregated_timeseries.json'\u001b[0m\u001b[1;33m)\u001b[0m\u001b[1;33m\u001b[0m\u001b[1;33m\u001b[0m\u001b[0m\n\u001b[0m\u001b[0;32m     14\u001b[0m \u001b[0mjson_timeseries\u001b[0m \u001b[1;33m=\u001b[0m \u001b[0mjson\u001b[0m\u001b[1;33m.\u001b[0m\u001b[0mload\u001b[0m\u001b[1;33m(\u001b[0m\u001b[0mf\u001b[0m\u001b[1;33m)\u001b[0m\u001b[1;33m\u001b[0m\u001b[1;33m\u001b[0m\u001b[0m\n\u001b[0;32m     15\u001b[0m \u001b[0mf\u001b[0m\u001b[1;33m.\u001b[0m\u001b[0mclose\u001b[0m\u001b[1;33m(\u001b[0m\u001b[1;33m)\u001b[0m\u001b[1;33m\u001b[0m\u001b[1;33m\u001b[0m\u001b[0m\n",
            "\u001b[1;31mFileNotFoundError\u001b[0m: [Errno 2] No such file or directory: 'data/aggregated_timeseries.json'"
          ]
        }
      ],
      "source": [
        "import pandas as pd\n",
        "import json\n",
        "\n",
        "path = 'data/'\n",
        "\n",
        "#Load csv files\n",
        "df_interventions = pd.read_csv(path + 'interventions.csv')\n",
        "df_google_mobility = pd.read_csv(path + 'Global_Mobility_Report.csv')\n",
        "df_apple_mobility = pd.read_csv(path + 'applemobilitytrends-2020-04-20.csv')\n",
        "df_topics_linked = pd.read_csv(path + 'topics_linked.csv')\n",
        "\n",
        "#Load json file\n",
        "f = open(path + 'aggregated_timeseries.json')\n",
        "json_timeseries = json.load(f)\n",
        "f.close()\n"
      ]
    },
    {
      "cell_type": "code",
      "execution_count": null,
      "metadata": {
        "id": "0wQ26W_BblzS"
      },
      "outputs": [],
      "source": [
        "#Print the columns of the dataframes\n",
        "print (df_interventions.columns)\n",
        "print (df_google_mobility.columns)\n",
        "print (df_apple_mobility.columns)\n",
        "print (df_topics_linked.columns)\n",
        "\n",
        "#Print the keys of the json file\n",
        "print (json_timeseries.keys())"
      ]
    },
    {
      "cell_type": "markdown",
      "metadata": {},
      "source": [
        "## Study each dataframe"
      ]
    },
    {
      "cell_type": "markdown",
      "metadata": {},
      "source": [
        "### Interventions dataframe"
      ]
    },
    {
      "cell_type": "code",
      "execution_count": 8,
      "metadata": {},
      "outputs": [
        {
          "data": {
            "text/html": [
              "<div>\n",
              "<style scoped>\n",
              "    .dataframe tbody tr th:only-of-type {\n",
              "        vertical-align: middle;\n",
              "    }\n",
              "\n",
              "    .dataframe tbody tr th {\n",
              "        vertical-align: top;\n",
              "    }\n",
              "\n",
              "    .dataframe thead th {\n",
              "        text-align: right;\n",
              "    }\n",
              "</style>\n",
              "<table border=\"1\" class=\"dataframe\">\n",
              "  <thead>\n",
              "    <tr style=\"text-align: right;\">\n",
              "      <th></th>\n",
              "      <th>lang</th>\n",
              "      <th>1st case</th>\n",
              "      <th>1st death</th>\n",
              "      <th>School closure</th>\n",
              "      <th>Public events banned</th>\n",
              "      <th>Lockdown</th>\n",
              "      <th>Mobility</th>\n",
              "      <th>Normalcy</th>\n",
              "    </tr>\n",
              "  </thead>\n",
              "  <tbody>\n",
              "    <tr>\n",
              "      <th>0</th>\n",
              "      <td>fr</td>\n",
              "      <td>2020-01-24</td>\n",
              "      <td>2020-02-14</td>\n",
              "      <td>2020-03-14</td>\n",
              "      <td>2020-03-13</td>\n",
              "      <td>2020-03-17</td>\n",
              "      <td>2020-03-16</td>\n",
              "      <td>2020-07-02</td>\n",
              "    </tr>\n",
              "    <tr>\n",
              "      <th>1</th>\n",
              "      <td>da</td>\n",
              "      <td>2020-02-27</td>\n",
              "      <td>2020-03-12</td>\n",
              "      <td>2020-03-13</td>\n",
              "      <td>2020-03-12</td>\n",
              "      <td>2020-03-18</td>\n",
              "      <td>2020-03-11</td>\n",
              "      <td>2020-06-05</td>\n",
              "    </tr>\n",
              "    <tr>\n",
              "      <th>2</th>\n",
              "      <td>de</td>\n",
              "      <td>2020-01-27</td>\n",
              "      <td>2020-03-09</td>\n",
              "      <td>2020-03-14</td>\n",
              "      <td>2020-03-22</td>\n",
              "      <td>2020-03-22</td>\n",
              "      <td>2020-03-16</td>\n",
              "      <td>2020-07-10</td>\n",
              "    </tr>\n",
              "  </tbody>\n",
              "</table>\n",
              "</div>"
            ],
            "text/plain": [
              "  lang    1st case   1st death School closure Public events banned  \\\n",
              "0   fr  2020-01-24  2020-02-14     2020-03-14           2020-03-13   \n",
              "1   da  2020-02-27  2020-03-12     2020-03-13           2020-03-12   \n",
              "2   de  2020-01-27  2020-03-09     2020-03-14           2020-03-22   \n",
              "\n",
              "     Lockdown    Mobility    Normalcy  \n",
              "0  2020-03-17  2020-03-16  2020-07-02  \n",
              "1  2020-03-18  2020-03-11  2020-06-05  \n",
              "2  2020-03-22  2020-03-16  2020-07-10  "
            ]
          },
          "execution_count": 8,
          "metadata": {},
          "output_type": "execute_result"
        }
      ],
      "source": [
        "#Dataframe overview\n",
        "\n",
        "df_interventions.head(3)"
      ]
    },
    {
      "cell_type": "code",
      "execution_count": 13,
      "metadata": {},
      "outputs": [
        {
          "name": "stdout",
          "output_type": "stream",
          "text": [
            "13 countries considered :\n",
            "fr  da  de  it  nl  no  sr  sv  ko  ca  fi  ja  en  "
          ]
        }
      ],
      "source": [
        "#Countries considered in this dataset\n",
        "\n",
        "print (df_interventions.shape[0], 'countries considered :')\n",
        "\n",
        "for ctry in df_interventions['lang'] :\n",
        "    print (ctry, end='  ')"
      ]
    },
    {
      "cell_type": "markdown",
      "metadata": {},
      "source": [
        "### Apple mobility report"
      ]
    },
    {
      "cell_type": "code",
      "execution_count": 42,
      "metadata": {},
      "outputs": [
        {
          "data": {
            "text/html": [
              "<div>\n",
              "<style scoped>\n",
              "    .dataframe tbody tr th:only-of-type {\n",
              "        vertical-align: middle;\n",
              "    }\n",
              "\n",
              "    .dataframe tbody tr th {\n",
              "        vertical-align: top;\n",
              "    }\n",
              "\n",
              "    .dataframe thead th {\n",
              "        text-align: right;\n",
              "    }\n",
              "</style>\n",
              "<table border=\"1\" class=\"dataframe\">\n",
              "  <thead>\n",
              "    <tr style=\"text-align: right;\">\n",
              "      <th></th>\n",
              "      <th>geo_type</th>\n",
              "      <th>region</th>\n",
              "      <th>transportation_type</th>\n",
              "      <th>2020-01-13</th>\n",
              "      <th>2020-01-14</th>\n",
              "      <th>2020-01-15</th>\n",
              "      <th>2020-01-16</th>\n",
              "      <th>2020-01-17</th>\n",
              "      <th>2020-01-18</th>\n",
              "      <th>2020-01-19</th>\n",
              "      <th>...</th>\n",
              "      <th>2020-04-11</th>\n",
              "      <th>2020-04-12</th>\n",
              "      <th>2020-04-13</th>\n",
              "      <th>2020-04-14</th>\n",
              "      <th>2020-04-15</th>\n",
              "      <th>2020-04-16</th>\n",
              "      <th>2020-04-17</th>\n",
              "      <th>2020-04-18</th>\n",
              "      <th>2020-04-19</th>\n",
              "      <th>2020-04-20</th>\n",
              "    </tr>\n",
              "  </thead>\n",
              "  <tbody>\n",
              "    <tr>\n",
              "      <th>0</th>\n",
              "      <td>country/region</td>\n",
              "      <td>Albania</td>\n",
              "      <td>driving</td>\n",
              "      <td>100</td>\n",
              "      <td>95.30</td>\n",
              "      <td>101.43</td>\n",
              "      <td>97.20</td>\n",
              "      <td>103.55</td>\n",
              "      <td>112.67</td>\n",
              "      <td>104.83</td>\n",
              "      <td>...</td>\n",
              "      <td>25.47</td>\n",
              "      <td>24.89</td>\n",
              "      <td>32.64</td>\n",
              "      <td>31.43</td>\n",
              "      <td>30.67</td>\n",
              "      <td>30.00</td>\n",
              "      <td>29.26</td>\n",
              "      <td>22.94</td>\n",
              "      <td>24.55</td>\n",
              "      <td>31.51</td>\n",
              "    </tr>\n",
              "    <tr>\n",
              "      <th>1</th>\n",
              "      <td>country/region</td>\n",
              "      <td>Albania</td>\n",
              "      <td>walking</td>\n",
              "      <td>100</td>\n",
              "      <td>100.68</td>\n",
              "      <td>98.93</td>\n",
              "      <td>98.46</td>\n",
              "      <td>100.85</td>\n",
              "      <td>100.13</td>\n",
              "      <td>82.13</td>\n",
              "      <td>...</td>\n",
              "      <td>27.63</td>\n",
              "      <td>29.59</td>\n",
              "      <td>35.52</td>\n",
              "      <td>38.08</td>\n",
              "      <td>35.48</td>\n",
              "      <td>39.15</td>\n",
              "      <td>34.58</td>\n",
              "      <td>27.76</td>\n",
              "      <td>27.93</td>\n",
              "      <td>36.72</td>\n",
              "    </tr>\n",
              "    <tr>\n",
              "      <th>2</th>\n",
              "      <td>country/region</td>\n",
              "      <td>Argentina</td>\n",
              "      <td>driving</td>\n",
              "      <td>100</td>\n",
              "      <td>97.07</td>\n",
              "      <td>102.45</td>\n",
              "      <td>111.21</td>\n",
              "      <td>118.45</td>\n",
              "      <td>124.01</td>\n",
              "      <td>95.44</td>\n",
              "      <td>...</td>\n",
              "      <td>19.40</td>\n",
              "      <td>12.89</td>\n",
              "      <td>21.10</td>\n",
              "      <td>22.29</td>\n",
              "      <td>23.55</td>\n",
              "      <td>24.40</td>\n",
              "      <td>27.17</td>\n",
              "      <td>23.19</td>\n",
              "      <td>14.54</td>\n",
              "      <td>26.67</td>\n",
              "    </tr>\n",
              "  </tbody>\n",
              "</table>\n",
              "<p>3 rows × 102 columns</p>\n",
              "</div>"
            ],
            "text/plain": [
              "         geo_type     region transportation_type  2020-01-13  2020-01-14  \\\n",
              "0  country/region    Albania             driving         100       95.30   \n",
              "1  country/region    Albania             walking         100      100.68   \n",
              "2  country/region  Argentina             driving         100       97.07   \n",
              "\n",
              "   2020-01-15  2020-01-16  2020-01-17  2020-01-18  2020-01-19     ...      \\\n",
              "0      101.43       97.20      103.55      112.67      104.83     ...       \n",
              "1       98.93       98.46      100.85      100.13       82.13     ...       \n",
              "2      102.45      111.21      118.45      124.01       95.44     ...       \n",
              "\n",
              "   2020-04-11  2020-04-12  2020-04-13  2020-04-14  2020-04-15  2020-04-16  \\\n",
              "0       25.47       24.89       32.64       31.43       30.67       30.00   \n",
              "1       27.63       29.59       35.52       38.08       35.48       39.15   \n",
              "2       19.40       12.89       21.10       22.29       23.55       24.40   \n",
              "\n",
              "   2020-04-17  2020-04-18  2020-04-19  2020-04-20  \n",
              "0       29.26       22.94       24.55       31.51  \n",
              "1       34.58       27.76       27.93       36.72  \n",
              "2       27.17       23.19       14.54       26.67  \n",
              "\n",
              "[3 rows x 102 columns]"
            ]
          },
          "execution_count": 42,
          "metadata": {},
          "output_type": "execute_result"
        }
      ],
      "source": [
        "#Dataframe overview\n",
        "\n",
        "df_apple_mobility.head(3)"
      ]
    },
    {
      "cell_type": "code",
      "execution_count": 43,
      "metadata": {},
      "outputs": [
        {
          "name": "stdout",
          "output_type": "stream",
          "text": [
            "Reference day : 2020-01-13\n",
            "Last day : 2020-04-20\n"
          ]
        }
      ],
      "source": [
        "#Min and max dates of this dataset\n",
        "\n",
        "apple_cols = df_apple_mobility.columns\n",
        "print ('Reference day :', apple_cols[3])\n",
        "print ('Last day :', apple_cols[-1])"
      ]
    },
    {
      "cell_type": "code",
      "execution_count": 88,
      "metadata": {},
      "outputs": [
        {
          "name": "stdout",
          "output_type": "stream",
          "text": [
            "city              242\n",
            "country/region    153\n",
            "Name: geo_type, dtype: int64 \n",
            "\n",
            "Regions : \n",
            " ['Albania' 'Argentina' 'Australia' 'Austria' 'Belgium' 'Brazil' 'Bulgaria'\n",
            " 'Cambodia' 'Canada' 'Chile' 'Colombia' 'Croatia' 'Czech Republic'\n",
            " 'Denmark' 'Egypt' 'Estonia' 'Finland' 'France' 'Germany' 'Greece'\n",
            " 'Hong Kong' 'Hungary' 'Iceland' 'India' 'Indonesia' 'Ireland' 'Israel'\n",
            " 'Italy' 'Japan' 'Latvia' 'Lithuania' 'Luxembourg' 'Macao' 'Malaysia'\n",
            " 'Mexico' 'Morocco' 'Netherlands' 'New Zealand' 'Norway' 'Philippines'\n",
            " 'Poland' 'Portugal' 'Republic of Korea' 'Romania' 'Russia' 'Saudi Arabia'\n",
            " 'Serbia' 'Singapore' 'Slovakia' 'Slovenia' 'South Africa' 'Spain'\n",
            " 'Sweden' 'Switzerland' 'Taiwan' 'Thailand' 'Turkey' 'UK' 'United States'\n",
            " 'Ukraine' 'United Arab Emirates' 'Uruguay' 'Vietnam'] \n",
            "\n",
            "Nb of regions with data for walking, driving and transit : 27\n",
            "Nb of regions with data for only walking and driving : 36 \n",
            "\n",
            "Cities : \n",
            " ['Amsterdam' 'Athens' 'Atlanta' 'Auckland' 'Baltimore' 'Bangkok'\n",
            " 'Barcelona' 'Berlin' 'Birmingham - UK' 'Bochum - Dortmund' 'Boston'\n",
            " 'Brisbane' 'Brussels' 'Buenos Aires' 'Cairo' 'Calgary' 'Cape Town'\n",
            " 'Chicago' 'Cologne' 'Copenhagen' 'Dallas' 'Delhi' 'Denver' 'Detroit'\n",
            " 'Dubai' 'Dublin' 'Dusseldorf' 'Edmonton' 'Frankfurt' 'Fukuoka'\n",
            " 'Guadalajara' 'Halifax' 'Hamburg' 'Helsinki' 'Houston' 'Hsin-chu'\n",
            " 'Istanbul' 'Jakarta' 'Johannesburg' 'Kuala Lumpur' 'Leeds' 'Lille'\n",
            " 'London' 'Los Angeles' 'Lyon' 'Madrid' 'Manchester' 'Manila' 'Melbourne'\n",
            " 'Mexico City' 'Miami' 'Milan' 'Montreal' 'Moscow' 'Mumbai' 'Munich'\n",
            " 'Nagoya' 'New York City' 'Osaka' 'Oslo' 'Ottawa' 'Paris' 'Perth'\n",
            " 'Philadelphia' 'Rio de Janeiro' 'Riyadh' 'Rome' 'Rotterdam'\n",
            " 'Saint Petersburg' 'San Francisco - Bay Area' 'Santiago' 'Sao Paulo'\n",
            " 'Seattle' 'Seoul' 'Stockholm' 'Stuttgart' 'Sydney' 'Taichung' 'Taipei'\n",
            " 'Tel Aviv' 'Tijuana' 'Tokyo' 'Toronto' 'Toulouse' 'Utrecht' 'Vancouver'\n",
            " 'Vienna' 'Washington DC' 'Zurich'] \n",
            "\n",
            "Nb of cities with data for walking, driving and transit : 64\n",
            "Nb of cities with data for only walking and driving : 25 \n",
            "\n"
          ]
        }
      ],
      "source": [
        "#Regions considered\n",
        "\n",
        "#Number of cities and country/region considered\n",
        "print (df_apple_mobility['geo_type'].value_counts(), '\\n')\n",
        "\n",
        "#Regions considered\n",
        "apple_regions = df_apple_mobility[df_apple_mobility['geo_type']=='country/region']['region']\n",
        "print ('Regions : \\n', apple_regions.unique(), '\\n')\n",
        "\n",
        "#Count the regions where the data is for walking, driving and transit\n",
        "occurence_counting = apple_regions.value_counts()\n",
        "print('Nb of regions with data for walking, driving and transit :', occurence_counting[occurence_counting==3].shape[0])\n",
        "print('Nb of regions with data for only walking and driving :', occurence_counting[occurence_counting==2].shape[0], '\\n')\n",
        "\n",
        "#Cities considered\n",
        "apple_cities = df_apple_mobility[df_apple_mobility['geo_type']=='city']['region']\n",
        "print ('Cities : \\n', apple_cities.unique(), '\\n')\n",
        "\n",
        "#Count the regions where the data is for walking, driving and transit\n",
        "occurence_counting = apple_cities.value_counts()\n",
        "print('Nb of cities with data for walking, driving and transit :', occurence_counting[occurence_counting==3].shape[0])\n",
        "print('Nb of cities with data for only walking and driving :', occurence_counting[occurence_counting==2].shape[0], '\\n')\n"
      ]
    },
    {
      "cell_type": "code",
      "execution_count": 87,
      "metadata": {},
      "outputs": [
        {
          "data": {
            "image/png": "[encoded data removed]",
            "text/plain": [
              "<Figure size 1080x360 with 1 Axes>"
            ]
          },
          "metadata": {
            "needs_background": "light"
          },
          "output_type": "display_data"
        }
      ],
      "source": [
        "#Exemple : plot walking evolution in France\n",
        "\n",
        "import matplotlib.pyplot as plt\n",
        "\n",
        "#Extract walking data for France\n",
        "france_walking = df_apple_mobility[(df_apple_mobility['region']=='France') & (df_apple_mobility['transportation_type']=='walking')]\n",
        "france_walking.drop(['geo_type', 'region', 'transportation_type'], inplace=True, axis=1)\n",
        "\n",
        "#Transpose it to have a pandas series and plot it\n",
        "france_walking = france_walking.transpose()\n",
        "fig = plt.figure(figsize=(15, 5))\n",
        "plt.plot(france_walking)\n",
        "plt.xticks(fontsize=7, rotation=90)\n",
        "plt.title('Walking Evolution in France')\n",
        "plt.xlabel('Date')\n",
        "plt.ylabel('Relative evolution (%)')\n",
        "plt.show()"
      ]
    },
    {
      "cell_type": "markdown",
      "metadata": {},
      "source": [
        "### Google mobility report"
      ]
    },
    {
      "cell_type": "code",
      "execution_count": 92,
      "metadata": {},
      "outputs": [
        {
          "data": {
            "text/html": [
              "<div>\n",
              "<style scoped>\n",
              "    .dataframe tbody tr th:only-of-type {\n",
              "        vertical-align: middle;\n",
              "    }\n",
              "\n",
              "    .dataframe tbody tr th {\n",
              "        vertical-align: top;\n",
              "    }\n",
              "\n",
              "    .dataframe thead th {\n",
              "        text-align: right;\n",
              "    }\n",
              "</style>\n",
              "<table border=\"1\" class=\"dataframe\">\n",
              "  <thead>\n",
              "    <tr style=\"text-align: right;\">\n",
              "      <th></th>\n",
              "      <th>country_region_code</th>\n",
              "      <th>country_region</th>\n",
              "      <th>sub_region_1</th>\n",
              "      <th>sub_region_2</th>\n",
              "      <th>metro_area</th>\n",
              "      <th>iso_3166_2_code</th>\n",
              "      <th>census_fips_code</th>\n",
              "      <th>date</th>\n",
              "      <th>retail_and_recreation_percent_change_from_baseline</th>\n",
              "      <th>grocery_and_pharmacy_percent_change_from_baseline</th>\n",
              "      <th>parks_percent_change_from_baseline</th>\n",
              "      <th>transit_stations_percent_change_from_baseline</th>\n",
              "      <th>workplaces_percent_change_from_baseline</th>\n",
              "      <th>residential_percent_change_from_baseline</th>\n",
              "    </tr>\n",
              "  </thead>\n",
              "  <tbody>\n",
              "    <tr>\n",
              "      <th>0</th>\n",
              "      <td>AE</td>\n",
              "      <td>United Arab Emirates</td>\n",
              "      <td>NaN</td>\n",
              "      <td>NaN</td>\n",
              "      <td>NaN</td>\n",
              "      <td>NaN</td>\n",
              "      <td>NaN</td>\n",
              "      <td>2020-02-15</td>\n",
              "      <td>0.0</td>\n",
              "      <td>4.0</td>\n",
              "      <td>5.0</td>\n",
              "      <td>0.0</td>\n",
              "      <td>2.0</td>\n",
              "      <td>1.0</td>\n",
              "    </tr>\n",
              "    <tr>\n",
              "      <th>1</th>\n",
              "      <td>AE</td>\n",
              "      <td>United Arab Emirates</td>\n",
              "      <td>NaN</td>\n",
              "      <td>NaN</td>\n",
              "      <td>NaN</td>\n",
              "      <td>NaN</td>\n",
              "      <td>NaN</td>\n",
              "      <td>2020-02-16</td>\n",
              "      <td>1.0</td>\n",
              "      <td>4.0</td>\n",
              "      <td>4.0</td>\n",
              "      <td>1.0</td>\n",
              "      <td>2.0</td>\n",
              "      <td>1.0</td>\n",
              "    </tr>\n",
              "    <tr>\n",
              "      <th>2</th>\n",
              "      <td>AE</td>\n",
              "      <td>United Arab Emirates</td>\n",
              "      <td>NaN</td>\n",
              "      <td>NaN</td>\n",
              "      <td>NaN</td>\n",
              "      <td>NaN</td>\n",
              "      <td>NaN</td>\n",
              "      <td>2020-02-17</td>\n",
              "      <td>-1.0</td>\n",
              "      <td>1.0</td>\n",
              "      <td>5.0</td>\n",
              "      <td>1.0</td>\n",
              "      <td>2.0</td>\n",
              "      <td>1.0</td>\n",
              "    </tr>\n",
              "  </tbody>\n",
              "</table>\n",
              "</div>"
            ],
            "text/plain": [
              "  country_region_code        country_region sub_region_1 sub_region_2  \\\n",
              "0                  AE  United Arab Emirates          NaN          NaN   \n",
              "1                  AE  United Arab Emirates          NaN          NaN   \n",
              "2                  AE  United Arab Emirates          NaN          NaN   \n",
              "\n",
              "  metro_area iso_3166_2_code  census_fips_code        date  \\\n",
              "0        NaN             NaN               NaN  2020-02-15   \n",
              "1        NaN             NaN               NaN  2020-02-16   \n",
              "2        NaN             NaN               NaN  2020-02-17   \n",
              "\n",
              "   retail_and_recreation_percent_change_from_baseline  \\\n",
              "0                                                0.0    \n",
              "1                                                1.0    \n",
              "2                                               -1.0    \n",
              "\n",
              "   grocery_and_pharmacy_percent_change_from_baseline  \\\n",
              "0                                                4.0   \n",
              "1                                                4.0   \n",
              "2                                                1.0   \n",
              "\n",
              "   parks_percent_change_from_baseline  \\\n",
              "0                                 5.0   \n",
              "1                                 4.0   \n",
              "2                                 5.0   \n",
              "\n",
              "   transit_stations_percent_change_from_baseline  \\\n",
              "0                                            0.0   \n",
              "1                                            1.0   \n",
              "2                                            1.0   \n",
              "\n",
              "   workplaces_percent_change_from_baseline  \\\n",
              "0                                      2.0   \n",
              "1                                      2.0   \n",
              "2                                      2.0   \n",
              "\n",
              "   residential_percent_change_from_baseline  \n",
              "0                                       1.0  \n",
              "1                                       1.0  \n",
              "2                                       1.0  "
            ]
          },
          "execution_count": 92,
          "metadata": {},
          "output_type": "execute_result"
        }
      ],
      "source": [
        "#Overview of the dataset\n",
        "\n",
        "df_google_mobility.head(3)"
      ]
    },
    {
      "cell_type": "code",
      "execution_count": 96,
      "metadata": {},
      "outputs": [
        {
          "name": "stdout",
          "output_type": "stream",
          "text": [
            "Data for 135 countries :\n",
            "['United Arab Emirates' 'Afghanistan' 'Antigua and Barbuda' 'Angola'\n",
            " 'Argentina' 'Austria' 'Australia' 'Aruba' 'Bosnia and Herzegovina'\n",
            " 'Barbados' 'Bangladesh' 'Belgium' 'Burkina Faso' 'Bulgaria' 'Bahrain'\n",
            " 'Benin' 'Bolivia' 'Brazil' 'The Bahamas' 'Botswana' 'Belarus' 'Belize'\n",
            " 'Canada' 'Switzerland' \"Côte d'Ivoire\" 'Chile' 'Cameroon' 'Colombia'\n",
            " 'Costa Rica' 'Cape Verde' 'Czechia' 'Germany' 'Denmark'\n",
            " 'Dominican Republic' 'Ecuador' 'Estonia' 'Egypt' 'Spain' 'Finland' 'Fiji'\n",
            " 'France' 'Gabon' 'United Kingdom' 'Georgia' 'Ghana' 'Greece' 'Guatemala'\n",
            " 'Guinea-Bissau' 'Hong Kong' 'Honduras' 'Croatia' 'Haiti' 'Hungary'\n",
            " 'Indonesia' 'Ireland' 'Israel' 'India' 'Iraq' 'Italy' 'Jamaica' 'Jordan'\n",
            " 'Japan' 'Kenya' 'Kyrgyzstan' 'Cambodia' 'South Korea' 'Kuwait'\n",
            " 'Kazakhstan' 'Laos' 'Lebanon' 'Liechtenstein' 'Sri Lanka' 'Lithuania'\n",
            " 'Luxembourg' 'Latvia' 'Libya' 'Morocco' 'Moldova' 'North Macedonia'\n",
            " 'Mali' 'Myanmar (Burma)' 'Mongolia' 'Malta' 'Mauritius' 'Mexico'\n",
            " 'Malaysia' 'Mozambique' 'Namibia' 'Niger' 'Nigeria' 'Nicaragua'\n",
            " 'Netherlands' 'Norway' 'Nepal' 'New Zealand' 'Oman' 'Panama' 'Peru'\n",
            " 'Papua New Guinea' 'Philippines' 'Pakistan' 'Poland' 'Puerto Rico'\n",
            " 'Portugal' 'Paraguay' 'Qatar' 'Réunion' 'Romania' 'Serbia' 'Russia'\n",
            " 'Rwanda' 'Saudi Arabia' 'Sweden' 'Singapore' 'Slovenia' 'Slovakia'\n",
            " 'Senegal' 'El Salvador' 'Togo' 'Thailand' 'Tajikistan' 'Turkey'\n",
            " 'Trinidad and Tobago' 'Taiwan' 'Tanzania' 'Ukraine' 'Uganda'\n",
            " 'United States' 'Uruguay' 'Venezuela' 'Vietnam' 'Yemen' 'South Africa'\n",
            " 'Zambia' 'Zimbabwe']\n"
          ]
        }
      ],
      "source": [
        "#Countries for which we have data\n",
        "google_countries = df_google_mobility['country_region'].unique()\n",
        "print ('Data for', google_countries.size, 'countries :')\n",
        "print (google_countries)"
      ]
    },
    {
      "cell_type": "code",
      "execution_count": 111,
      "metadata": {},
      "outputs": [
        {
          "name": "stdout",
          "output_type": "stream",
          "text": [
            "Regions considered in France\n",
            "[nan 'Auvergne-Rhône-Alpes' 'Bourgogne-Franche-Comté' 'Brittany'\n",
            " 'Centre-Val de Loire' 'Corsica' 'Grand Est' 'Hauts-de-France'\n",
            " 'Île-de-France' 'Normandy' 'Nouvelle-Aquitaine' 'Occitanie'\n",
            " 'Pays de la Loire' \"Provence-Alpes-Côte d'Azur\"] \n",
            "\n",
            "Subregions in Occitanie :\n",
            "[nan 'Ariege' 'Aude' 'Aveyron' 'Gard' 'Gers' 'Haute-Garonne'\n",
            " 'Hautes-Pyrénées' 'Hérault' 'Lot' 'Lozère' 'Pyrénées-Orientales' 'Tarn'\n",
            " 'Tarn-et-Garonne']\n",
            "[nan]\n"
          ]
        },
        {
          "name": "stderr",
          "output_type": "stream",
          "text": [
            "c:\\Users\\val31\\Anaconda3\\lib\\site-packages\\ipykernel_launcher.py:14: UserWarning: Boolean Series key will be reindexed to match DataFrame index.\n",
            "  \n"
          ]
        }
      ],
      "source": [
        "#The data can be at a more specific scale than the whoel country\n",
        "#For instance in France, the different regions are considered\n",
        "\n",
        "google_mob_france = df_google_mobility[df_google_mobility['country_region'] == 'France']\n",
        "print ('Regions considered in France')\n",
        "print (google_mob_france['sub_region_1'].unique(), '\\n')\n",
        "\n",
        "#Let's now focus on Occitanie\n",
        "print ('Subregions in Occitanie :')\n",
        "google_mob_occ = google_mob_france[google_mob_france['sub_region_1'] == 'Occitanie']\n",
        "print (google_mob_occ['sub_region_2'].unique())\n",
        "\n",
        "#In occitanie let's focus on Haute-Garonne\n",
        "google_mob_hg = google_mob_occ[google_mob_france['sub_region_2'] == 'Haute-Garonne']"
      ]
    },
    {
      "cell_type": "code",
      "execution_count": 127,
      "metadata": {},
      "outputs": [
        {
          "name": "stdout",
          "output_type": "stream",
          "text": [
            "Columns of the dataframe :\n",
            "Index(['country_region_code', 'country_region', 'sub_region_1', 'sub_region_2',\n",
            "       'metro_area', 'iso_3166_2_code', 'census_fips_code', 'date',\n",
            "       'retail_and_recreation_percent_change_from_baseline',\n",
            "       'grocery_and_pharmacy_percent_change_from_baseline',\n",
            "       'parks_percent_change_from_baseline',\n",
            "       'transit_stations_percent_change_from_baseline',\n",
            "       'workplaces_percent_change_from_baseline',\n",
            "       'residential_percent_change_from_baseline'],\n",
            "      dtype='object') \n",
            "\n",
            "Date range : \n",
            "from 2020-02-15 to 2020-08-25 \n",
            "\n",
            "Types of places considered :\n",
            " - retail_and_recreation\n",
            " - grocery_and_pharmacy\n",
            " - parks\n",
            " - transit_stations\n",
            " - workplaces\n",
            " - residential\n"
          ]
        }
      ],
      "source": [
        "#Now let's see what data can be extracted in Haute-Garonne\n",
        "print ('Columns of the dataframe :')\n",
        "print (google_mob_hg.columns, '\\n')\n",
        "\n",
        "#Focus on the date\n",
        "print ('Date range : ')\n",
        "print ('from', google_mob_hg['date'].iloc[0], 'to', google_mob_hg['date'].iloc[-1], '\\n')\n",
        "\n",
        "#Specific places for which we have data\n",
        "print ('Types of places considered :')\n",
        "for col in google_mob_hg.columns :\n",
        "    if '_percent_change_from_baseline' in col :\n",
        "        print(' -',col.replace('_percent_change_from_baseline', ''))\n"
      ]
    }
  ],
  "metadata": {
    "colab": {
      "collapsed_sections": [],
      "provenance": []
    },
    "kernelspec": {
      "display_name": "Python 3.7.1 ('base')",
      "language": "python",
      "name": "python3"
    },
    "language_info": {
      "codemirror_mode": {
        "name": "ipython",
        "version": 3
      },
      "file_extension": ".py",
      "mimetype": "text/x-python",
      "name": "python",
      "nbconvert_exporter": "python",
      "pygments_lexer": "ipython3",
      "version": "3.7.1"
    },
    "vscode": {
      "interpreter": {
        "hash": "ca290eae0f5af857e3953b76ad34f9e6835e16bf594a023f95ab180c0e53d649"
      }
    }
  },
  "nbformat": 4,
  "nbformat_minor": 0
}
