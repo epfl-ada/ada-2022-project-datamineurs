{
  "nbformat": 4,
  "nbformat_minor": 0,
  "metadata": {
    "colab": {
      "provenance": [],
      "collapsed_sections": []
    },
    "kernelspec": {
      "name": "python3",
      "display_name": "Python 3"
    },
    "language_info": {
      "name": "python"
    }
  },
  "cells": [
    {
      "cell_type": "markdown",
      "source": [
        "### Téléchargement des datas\n"
      ],
      "metadata": {
        "id": "1SY3BOcbZttI"
      }
    },
    {
      "cell_type": "code",
      "execution_count": null,
      "metadata": {
        "id": "kJqcTZHlUuBC",
        "colab": {
          "base_uri": "https://localhost:8080/"
        },
        "outputId": "2f548c38-86b3-4bf4-8639-b61412f6f9dd"
      },
      "outputs": [
        {
          "output_type": "stream",
          "name": "stderr",
          "text": [
            "Downloading...\n",
            "From: https://drive.google.com/uc?id=1e8J6m_HV66F_yHqjvzscePSLtvZi6YPB\n",
            "To: /content/interventions.csv\n",
            "100%|██████████| 1.01k/1.01k [00:00<00:00, 1.21MB/s]\n",
            "Downloading...\n",
            "From: https://drive.google.com/uc?id=1GyWeePY8xG3G8DRlI0utcTsCmNCYjo3L\n",
            "To: /content/Global_Mobility_Report.csv\n",
            "100%|██████████| 149M/149M [00:01<00:00, 88.8MB/s]\n",
            "Downloading...\n",
            "From: https://drive.google.com/uc?id=1GyWeePY8xG3G8DRlI0utcTsCmNCYjo3L\n",
            "To: /content/Global_Mobility_Report.csv\n",
            "100%|██████████| 149M/149M [00:00<00:00, 202MB/s]\n",
            "Downloading...\n",
            "From: https://drive.google.com/uc?id=1Mg-1rxmnnPQIdWKsPWN9apH-y3P2x9dK\n",
            "To: /content/applemobilitytrends-2020-04-20.csv\n",
            "100%|██████████| 258k/258k [00:00<00:00, 33.9MB/s]\n",
            "Downloading...\n",
            "From: https://drive.google.com/uc?id=1lTjzeqc3wDQhcxG4VC9qtbw06vHED2eX\n",
            "To: /content/aggregated_timeseries.json\n",
            "100%|██████████| 129M/129M [00:01<00:00, 78.9MB/s]\n",
            "Downloading...\n",
            "From: https://drive.google.com/uc?id=1Pv1EKCNR72Yxivrvn_KDj7vfr2vKEmfh\n",
            "To: /content/topics_linked.csv\n",
            "100%|██████████| 1.77G/1.77G [00:18<00:00, 96.4MB/s]\n"
          ]
        }
      ],
      "source": [
        "import gdown\n",
        "from os.path import exists\n",
        "\n",
        "#Download the files only if they are not already in the environnement d'exécution\n",
        "\n",
        "files_already_downloaded = exists('topics_linked.csv')\n",
        "\n",
        "if not files_already_downloaded :\n",
        "\n",
        "  #Import interventions.csv\n",
        "  url = 'https://drive.google.com/uc?id=1e8J6m_HV66F_yHqjvzscePSLtvZi6YPB'\n",
        "  output = 'interventions.csv'\n",
        "  gdown.download(url, output, quiet=False)\n",
        "\n",
        "  #Import Global_Mobility_Report.csv\n",
        "  url = 'https://drive.google.com/uc?id=1GyWeePY8xG3G8DRlI0utcTsCmNCYjo3L'\n",
        "  output = 'Global_Mobility_Report.csv'\n",
        "  gdown.download(url, output, quiet=False)\n",
        "\n",
        "  #Import Global_Mobility_Report.csv\n",
        "  url = 'https://drive.google.com/uc?id=1GyWeePY8xG3G8DRlI0utcTsCmNCYjo3L'\n",
        "  output = 'Global_Mobility_Report.csv'\n",
        "  gdown.download(url, output, quiet=False)\n",
        "\n",
        "  #Import apple mobility trends\n",
        "  url = 'https://drive.google.com/uc?id=1Mg-1rxmnnPQIdWKsPWN9apH-y3P2x9dK'\n",
        "  output = 'applemobilitytrends-2020-04-20.csv'\n",
        "  gdown.download(url, output, quiet=False)\n",
        "\n",
        "  #Import aggregated time series\n",
        "  url = 'https://drive.google.com/uc?id=1lTjzeqc3wDQhcxG4VC9qtbw06vHED2eX'\n",
        "  output = 'aggregated_timeseries.json'\n",
        "  gdown.download(url, output, quiet=False)\n",
        "\n",
        "  #Import topics_linked\n",
        "  url = 'https://drive.google.com/uc?id=1Pv1EKCNR72Yxivrvn_KDj7vfr2vKEmfh'\n",
        "  output = 'topics_linked.csv'\n",
        "  gdown.download(url, output, quiet=False)\n",
        "\n",
        "else :\n",
        "  print ('Files already downloaded')"
      ]
    },
    {
      "cell_type": "markdown",
      "source": [
        "### Visualisation des différents fichiers"
      ],
      "metadata": {
        "id": "AGRDBIn4aA4t"
      }
    },
    {
      "cell_type": "code",
      "source": [
        "import pandas as pd\n",
        "import json\n",
        "\n",
        "#Load csv files\n",
        "df_interventions = pd.read_csv('interventions.csv')\n",
        "df_google_mobility = pd.read_csv('Global_Mobility_Report.csv')\n",
        "df_apple_mobility = pd.read_csv('applemobilitytrends-2020-04-20.csv')\n",
        "df_topics_linked = pd.read_csv('topics_linked.csv')\n",
        "\n",
        "#Load json file\n",
        "f = open('aggregated_timeseries.json')\n",
        "json_timeseries = json.load(f)\n",
        "f.close()\n"
      ],
      "metadata": {
        "id": "-ORTl38zWm4e",
        "colab": {
          "base_uri": "https://localhost:8080/"
        },
        "outputId": "26e70775-28e5-4261-db70-d426d1d679b2"
      },
      "execution_count": null,
      "outputs": [
        {
          "output_type": "stream",
          "name": "stderr",
          "text": [
            "/usr/local/lib/python3.7/dist-packages/IPython/core/interactiveshell.py:3326: DtypeWarning: Columns (4) have mixed types.Specify dtype option on import or set low_memory=False.\n",
            "  exec(code_obj, self.user_global_ns, self.user_ns)\n"
          ]
        }
      ]
    },
    {
      "cell_type": "code",
      "source": [
        "#Print the columns of the dataframes\n",
        "print (df_interventions.columns)\n",
        "print (df_google_mobility.columns)\n",
        "print (df_apple_mobility.columns)\n",
        "print (df_topics_linked.columns)\n",
        "\n",
        "#Print the keys of the json file\n",
        "print (json_timeseries.keys())"
      ],
      "metadata": {
        "id": "0wQ26W_BblzS"
      },
      "execution_count": null,
      "outputs": []
    }
  ]
}